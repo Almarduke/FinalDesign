{
 "cells": [
  {
   "cell_type": "code",
   "execution_count": 2,
   "metadata": {
    "pycharm": {
     "is_executing": false,
     "name": "#%%\n"
    }
   },
   "outputs": [],
   "source": [
    "import time\n",
    "import sys\n",
    "import json\n",
    "import re\n",
    "import os\n",
    "import requests\n",
    "from tqdm import tqdm\n",
    "from bs4 import BeautifulSoup\n",
    "import multiprocessing as mp"
   ]
  },
  {
   "cell_type": "code",
   "execution_count": 3,
   "metadata": {
    "pycharm": {
     "is_executing": false,
     "name": "#%%\n"
    }
   },
   "outputs": [],
   "source": [
    "ORIGINAL = False\n",
    "QUERY_SEARCH = None\n",
    "QUERY_GROUPURL = 'https://www.flickr.com/groups/scenery/pool/'\n",
    "QUERY_GROUPID = '78249294@N00'\n",
    "IMG_RESOLUTION_URL = \"url_o\" if ORIGINAL else \"url_l\"  #url_c,url_l,url_m,url_n,url_q,url_s,url_sq,url_t,url_z\n",
    "\n",
    "METADATA_JSON_FOLDER = './download/info'\n",
    "URL_JSON_FOLDER = './download/url'\n",
    "IMG_FOLDER = './download/newimages'\n",
    "\n",
    "DOWNLOADED = set()\n",
    "\n",
    "\n",
    "with open('credentials.json') as infile:\n",
    "    creds = json.load(infile)\n",
    "    KEY = creds['KEY']\n",
    "    SECRET = creds['SECRET']\n",
    "\n",
    "for folder in [METADATA_JSON_FOLDER, URL_JSON_FOLDER, IMG_FOLDER]:\n",
    "    if not os.path.exists(folder):\n",
    "        os.makedirs(folder)\n",
    "\n",
    "for filename in os.listdir(IMG_FOLDER):\n",
    "    id = filename.split('.')[0]\n",
    "    DOWNLOADED.add(id)"
   ]
  },
  {
   "cell_type": "code",
   "execution_count": 4,
   "metadata": {
    "pycharm": {
     "is_executing": false,
     "name": "#%%\n"
    }
   },
   "outputs": [],
   "source": [
    "def get_photo_metadata(page=1):\n",
    "    params = {\n",
    "        'content_type': '7',\n",
    "        'per_page': '500',\n",
    "        'media': 'photos',\n",
    "        'format': 'json',\n",
    "        'advanced': 1,\n",
    "        'nojsoncallback': 1,\n",
    "        'extras': f'{IMG_RESOLUTION_URL},o_dims',\n",
    "        'page': page,\n",
    "        'api_key': KEY\n",
    "    }\n",
    "\n",
    "    if QUERY_SEARCH is not None:\n",
    "        params['method'] = 'flickr.photos.search',\n",
    "        params['text'] = QUERY_SEARCH\n",
    "    elif QUERY_GROUPID is not None:\n",
    "        params['method'] = 'flickr.groups.pools.getPhotos',\n",
    "        params['group_id'] = QUERY_GROUPID\n",
    "\n",
    "    results = requests.get('https://api.flickr.com/services/rest', params=params).json()\n",
    "    return results\n",
    "\n",
    "\n",
    "def get_group_id_from_url(url):\n",
    "    if url is None:\n",
    "        return None\n",
    "    params = {\n",
    "        'method': 'flickr.urls.lookupGroup',\n",
    "        'url': url,\n",
    "        'format': 'json',\n",
    "        'api_key': KEY,\n",
    "        'nojsoncallback': 1\n",
    "    }\n",
    "    results = requests.get('https://api.flickr.com/services/rest', params=params).json()\n",
    "    return results['group']['id']"
   ]
  },
  {
   "cell_type": "code",
   "execution_count": 7,
   "metadata": {
    "pycharm": {
     "is_executing": false,
     "name": "#%%\n"
    }
   },
   "outputs": [],
   "source": [
    "def download_metadata(page):\n",
    "    file_path = os.path.join(METADATA_JSON_FOLDER, f'page{page}.json')\n",
    "    if os.path.exists(file_path):\n",
    "        return\n",
    "    \n",
    "    results = get_photo_metadata(page)          \n",
    "    with open(file_path, 'w') as json_file:\n",
    "        json.dump(results, json_file)\n",
    "        print(f'Metadata of page {page} dumped')\n",
    "\n",
    "\n",
    "def save_photo_id_and_urls(page):\n",
    "    file_path = os.path.join(URL_JSON_FOLDER, f'page{page}.json')\n",
    "    if os.path.exists(file_path):\n",
    "        return\n",
    "    \n",
    "    photo_urls = []\n",
    "    with open(os.path.join(METADATA_JSON_FOLDER, f'page{page}.json'), 'r') as json_file:\n",
    "        photos = json.load(json_file)['photos']['photo']\n",
    "        for photo in photos:\n",
    "            if IMG_RESOLUTION_URL in photo.keys():\n",
    "                photo_urls.append((photo['id'], photo[IMG_RESOLUTION_URL]))\n",
    "\n",
    "    with open(file_path, 'w') as json_file:\n",
    "        json.dump(photo_urls, json_file)\n",
    "        print(f'Photo urls of page {page} dumped')\n",
    "        return photo_urls\n",
    "\n",
    "\n",
    "def get_photo_id_and_urls(page):\n",
    "    with open(os.path.join(URL_JSON_FOLDER, f'page{page}.json'), 'r') as json_file:\n",
    "        photo_id_and_urls = json.load(json_file)\n",
    "        return photo_id_and_urls\n",
    "\n",
    "\n",
    "def download_file(photo_id_url_pair):    \n",
    "    p_id, p_url = photo_id_url_pair\n",
    "    extension = p_url.split('.')[-1]\n",
    "    filename = '{}.{}'.format(p_id, extension)\n",
    "    filepath = os.path.join(IMG_FOLDER, filename)\n",
    "    if os.path.exists(filepath):\n",
    "        return\n",
    "\n",
    "    try:\n",
    "        r = requests.get(p_url, stream=True)\n",
    "        with open(filepath, 'wb') as f:\n",
    "            for chunk in r.iter_content(chunk_size=1024):\n",
    "                if chunk:\n",
    "                    f.write(chunk)\n",
    "        print(f'{filename} downloaded')\n",
    "    except Exception as e:\n",
    "        print(f'{filename} download failed, \"{e}\"')\n",
    "\n",
    "\n",
    "def multi_thread_download_image(page):\n",
    "    photo_id_and_urls = get_photo_id_and_urls(page)\n",
    "    \n",
    "    # multi_thread_download_image images\n",
    "    pool = mp.Pool(processes=4)\n",
    "    for photo_id, photo_url in photo_id_and_urls:\n",
    "        pool.apply_async(download_file, args=((photo_id, photo_url),))\n",
    "    pool.close()\n",
    "    pool.join()\n",
    "    print(f'Multithread download of page {page} end.')"
   ]
  },
  {
   "cell_type": "code",
   "execution_count": 8,
   "metadata": {
    "pycharm": {
     "is_executing": false,
     "name": "#%%\n"
    }
   },
   "outputs": [
    {
     "name": "stdout",
     "output_type": "stream",
     "text": [
      "Multithread download of page 50 end.\n",
      "44896919255.jpg downloaded\n",
      "31977773958.jpg downloaded\n",
      "44031626560.jpg downloaded\n",
      "44032156100.jpg downloaded\n",
      "44363650285.jpg downloaded\n",
      "30908913237.jpg downloaded\n",
      "44032838170.jpg downloaded\n",
      "31954094538.jpg downloaded\n",
      "31976973248.jpg downloaded\n"
     ]
    },
    {
     "name": "stderr",
     "output_type": "stream",
     "text": [
      "Process ForkPoolWorker-12:\n",
      "Process ForkPoolWorker-11:\n",
      "Process ForkPoolWorker-10:\n",
      "Process ForkPoolWorker-9:\n",
      "Traceback (most recent call last):\n",
      "Traceback (most recent call last):\n",
      "  File \"/Users/sephidator/opt/anaconda3/lib/python3.7/multiprocessing/process.py\", line 297, in _bootstrap\n",
      "    self.run()\n",
      "  File \"/Users/sephidator/opt/anaconda3/lib/python3.7/multiprocessing/process.py\", line 297, in _bootstrap\n",
      "    self.run()\n",
      "  File \"/Users/sephidator/opt/anaconda3/lib/python3.7/multiprocessing/process.py\", line 99, in run\n",
      "    self._target(*self._args, **self._kwargs)\n",
      "Traceback (most recent call last):\n",
      "Traceback (most recent call last):\n",
      "  File \"/Users/sephidator/opt/anaconda3/lib/python3.7/multiprocessing/process.py\", line 99, in run\n",
      "    self._target(*self._args, **self._kwargs)\n",
      "  File \"/Users/sephidator/opt/anaconda3/lib/python3.7/multiprocessing/pool.py\", line 121, in worker\n",
      "    result = (True, func(*args, **kwds))\n",
      "  File \"/Users/sephidator/opt/anaconda3/lib/python3.7/multiprocessing/process.py\", line 297, in _bootstrap\n",
      "    self.run()\n",
      "  File \"/Users/sephidator/opt/anaconda3/lib/python3.7/multiprocessing/process.py\", line 297, in _bootstrap\n",
      "    self.run()\n",
      "  File \"/Users/sephidator/opt/anaconda3/lib/python3.7/multiprocessing/pool.py\", line 121, in worker\n",
      "    result = (True, func(*args, **kwds))\n",
      "  File \"<ipython-input-7-2783ce02bd29>\", line 47, in download_file\n",
      "    for chunk in r.iter_content(chunk_size=1024):\n",
      "  File \"/Users/sephidator/opt/anaconda3/lib/python3.7/multiprocessing/process.py\", line 99, in run\n",
      "    self._target(*self._args, **self._kwargs)\n",
      "  File \"/Users/sephidator/opt/anaconda3/lib/python3.7/multiprocessing/process.py\", line 99, in run\n",
      "    self._target(*self._args, **self._kwargs)\n",
      "  File \"<ipython-input-7-2783ce02bd29>\", line 45, in download_file\n",
      "    r = requests.get(p_url, stream=True)\n",
      "  File \"/Users/sephidator/opt/anaconda3/lib/python3.7/multiprocessing/pool.py\", line 121, in worker\n",
      "    result = (True, func(*args, **kwds))\n",
      "  File \"/Users/sephidator/opt/anaconda3/lib/python3.7/site-packages/requests/models.py\", line 750, in generate\n",
      "    for chunk in self.raw.stream(chunk_size, decode_content=True):\n",
      "  File \"/Users/sephidator/opt/anaconda3/lib/python3.7/multiprocessing/pool.py\", line 121, in worker\n",
      "    result = (True, func(*args, **kwds))\n",
      "  File \"/Users/sephidator/opt/anaconda3/lib/python3.7/site-packages/requests/api.py\", line 75, in get\n",
      "    return request('get', url, params=params, **kwargs)\n",
      "  File \"/Users/sephidator/opt/anaconda3/lib/python3.7/site-packages/urllib3/response.py\", line 490, in stream\n",
      "    for line in self.read_chunked(amt, decode_content=decode_content):\n",
      "  File \"<ipython-input-7-2783ce02bd29>\", line 47, in download_file\n",
      "    for chunk in r.iter_content(chunk_size=1024):\n",
      "  File \"<ipython-input-7-2783ce02bd29>\", line 47, in download_file\n",
      "    for chunk in r.iter_content(chunk_size=1024):\n",
      "  File \"/Users/sephidator/opt/anaconda3/lib/python3.7/site-packages/requests/api.py\", line 60, in request\n",
      "    return session.request(method=method, url=url, **kwargs)\n",
      "  File \"/Users/sephidator/opt/anaconda3/lib/python3.7/site-packages/requests/models.py\", line 750, in generate\n",
      "    for chunk in self.raw.stream(chunk_size, decode_content=True):\n",
      "  File \"/Users/sephidator/opt/anaconda3/lib/python3.7/site-packages/urllib3/response.py\", line 666, in read_chunked\n",
      "    self._update_chunk_length()\n",
      "  File \"/Users/sephidator/opt/anaconda3/lib/python3.7/site-packages/requests/models.py\", line 750, in generate\n",
      "    for chunk in self.raw.stream(chunk_size, decode_content=True):\n",
      "  File \"/Users/sephidator/opt/anaconda3/lib/python3.7/site-packages/requests/sessions.py\", line 533, in request\n",
      "    resp = self.send(prep, **send_kwargs)\n",
      "  File \"/Users/sephidator/opt/anaconda3/lib/python3.7/site-packages/urllib3/response.py\", line 490, in stream\n",
      "    for line in self.read_chunked(amt, decode_content=decode_content):\n",
      "  File \"/Users/sephidator/opt/anaconda3/lib/python3.7/site-packages/urllib3/response.py\", line 598, in _update_chunk_length\n",
      "    line = self._fp.fp.readline()\n",
      "  File \"/Users/sephidator/opt/anaconda3/lib/python3.7/site-packages/urllib3/response.py\", line 490, in stream\n",
      "    for line in self.read_chunked(amt, decode_content=decode_content):\n",
      "  File \"/Users/sephidator/opt/anaconda3/lib/python3.7/site-packages/requests/sessions.py\", line 646, in send\n",
      "    r = adapter.send(request, **kwargs)\n",
      "  File \"/Users/sephidator/opt/anaconda3/lib/python3.7/socket.py\", line 589, in readinto\n",
      "    return self._sock.recv_into(b)\n",
      "  File \"/Users/sephidator/opt/anaconda3/lib/python3.7/site-packages/urllib3/response.py\", line 666, in read_chunked\n",
      "    self._update_chunk_length()\n",
      "  File \"/Users/sephidator/opt/anaconda3/lib/python3.7/site-packages/urllib3/response.py\", line 669, in read_chunked\n",
      "    chunk = self._handle_chunk(amt)\n",
      "  File \"/Users/sephidator/opt/anaconda3/lib/python3.7/site-packages/requests/adapters.py\", line 449, in send\n",
      "    timeout=timeout\n",
      "  File \"/Users/sephidator/opt/anaconda3/lib/python3.7/site-packages/urllib3/contrib/pyopenssl.py\", line 297, in recv_into\n",
      "    return self.connection.recv_into(*args, **kwargs)\n",
      "  File \"/Users/sephidator/opt/anaconda3/lib/python3.7/site-packages/urllib3/response.py\", line 598, in _update_chunk_length\n",
      "    line = self._fp.fp.readline()\n",
      "  File \"/Users/sephidator/opt/anaconda3/lib/python3.7/site-packages/urllib3/response.py\", line 615, in _handle_chunk\n",
      "    value = self._fp._safe_read(amt)\n",
      "  File \"/Users/sephidator/opt/anaconda3/lib/python3.7/site-packages/urllib3/connectionpool.py\", line 600, in urlopen\n",
      "    chunked=chunked)\n",
      "  File \"/Users/sephidator/opt/anaconda3/lib/python3.7/site-packages/OpenSSL/SSL.py\", line 1821, in recv_into\n",
      "    result = _lib.SSL_read(self._ssl, buf, nbytes)\n",
      "  File \"/Users/sephidator/opt/anaconda3/lib/python3.7/http/client.py\", line 620, in _safe_read\n",
      "    chunk = self.fp.read(min(amt, MAXAMOUNT))\n",
      "  File \"/Users/sephidator/opt/anaconda3/lib/python3.7/socket.py\", line 589, in readinto\n",
      "    return self._sock.recv_into(b)\n",
      "  File \"/Users/sephidator/opt/anaconda3/lib/python3.7/site-packages/urllib3/connectionpool.py\", line 343, in _make_request\n",
      "    self._validate_conn(conn)\n",
      "KeyboardInterrupt\n",
      "  File \"/Users/sephidator/opt/anaconda3/lib/python3.7/site-packages/urllib3/contrib/pyopenssl.py\", line 297, in recv_into\n",
      "    return self.connection.recv_into(*args, **kwargs)\n",
      "  File \"/Users/sephidator/opt/anaconda3/lib/python3.7/socket.py\", line 589, in readinto\n",
      "    return self._sock.recv_into(b)\n",
      "  File \"/Users/sephidator/opt/anaconda3/lib/python3.7/site-packages/urllib3/connectionpool.py\", line 839, in _validate_conn\n",
      "    conn.connect()\n",
      "  File \"/Users/sephidator/opt/anaconda3/lib/python3.7/site-packages/OpenSSL/SSL.py\", line 1821, in recv_into\n",
      "    result = _lib.SSL_read(self._ssl, buf, nbytes)\n",
      "  File \"/Users/sephidator/opt/anaconda3/lib/python3.7/site-packages/urllib3/contrib/pyopenssl.py\", line 297, in recv_into\n",
      "    return self.connection.recv_into(*args, **kwargs)\n",
      "  File \"/Users/sephidator/opt/anaconda3/lib/python3.7/site-packages/urllib3/connection.py\", line 344, in connect\n",
      "    ssl_context=context)\n",
      "KeyboardInterrupt\n",
      "  File \"/Users/sephidator/opt/anaconda3/lib/python3.7/site-packages/OpenSSL/SSL.py\", line 1821, in recv_into\n",
      "    result = _lib.SSL_read(self._ssl, buf, nbytes)\n",
      "  File \"/Users/sephidator/opt/anaconda3/lib/python3.7/site-packages/urllib3/util/ssl_.py\", line 347, in ssl_wrap_socket\n",
      "    return context.wrap_socket(sock, server_hostname=server_hostname)\n",
      "KeyboardInterrupt\n",
      "  File \"/Users/sephidator/opt/anaconda3/lib/python3.7/site-packages/urllib3/contrib/pyopenssl.py\", line 456, in wrap_socket\n",
      "    cnx.do_handshake()\n",
      "  File \"/Users/sephidator/opt/anaconda3/lib/python3.7/site-packages/OpenSSL/SSL.py\", line 1914, in do_handshake\n",
      "    result = _lib.SSL_do_handshake(self._ssl)\n",
      "KeyboardInterrupt\n"
     ]
    }
   ],
   "source": [
    "if QUERY_SEARCH is None and QUERY_GROUPURL is None:\n",
    "    sys.exit('Must specify a search term or group id')\n",
    "\n",
    "# START_PAGE = 46\n",
    "# FINAL_PAGE = 60\n",
    "# for page in range(START_PAGE, FINAL_PAGE + 1):\n",
    "#     download_metadata(page)\n",
    "#     save_photo_id_and_urls(page)\n",
    "#     multi_thread_download_image(page)\n",
    "\n",
    "multi_thread_download_image(50)"
   ]
  },
  {
   "cell_type": "code",
   "execution_count": null,
   "metadata": {
    "pycharm": {
     "is_executing": true
    }
   },
   "outputs": [],
   "source": [
    "# photo_id_and_urls = []\n",
    "# for page in range(1, 18 + 1):\n",
    "#     photo_id_and_urls += get_photo_id_and_urls(page)\n",
    "# \n",
    "# # multi_thread_download_image images\n",
    "# pool = mp.Pool(processes=4)\n",
    "# for photo_id, photo_url in photo_id_and_urls:\n",
    "#     pool.apply_async(download_file, args=((photo_id, photo_url),))\n",
    "# pool.close()\n",
    "# pool.join()\n",
    "# print(f'Multithread download of page end.')"
   ]
  },
  {
   "cell_type": "code",
   "execution_count": null,
   "metadata": {
    "pycharm": {
     "is_executing": true
    }
   },
   "outputs": [],
   "source": []
  }
 ],
 "metadata": {
  "kernelspec": {
   "display_name": "Python 3",
   "language": "python",
   "name": "python3"
  },
  "language_info": {
   "codemirror_mode": {
    "name": "ipython",
    "version": 3
   },
   "file_extension": ".py",
   "mimetype": "text/x-python",
   "name": "python",
   "nbconvert_exporter": "python",
   "pygments_lexer": "ipython3",
   "version": "3.7.4"
  },
  "pycharm": {
   "stem_cell": {
    "cell_type": "raw",
    "metadata": {
     "collapsed": false
    },
    "source": []
   }
  }
 },
 "nbformat": 4,
 "nbformat_minor": 1
}
